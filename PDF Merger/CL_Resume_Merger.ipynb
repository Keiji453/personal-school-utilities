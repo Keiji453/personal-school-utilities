{
 "cells": [
  {
   "cell_type": "markdown",
   "metadata": {},
   "source": [
    "# Imports"
   ]
  },
  {
   "cell_type": "code",
   "execution_count": 1,
   "metadata": {},
   "outputs": [],
   "source": [
    "# Importing all libaries and the updated PyPDF2 library codes. \n",
    "# If you need to install, type: pip install PyPDF2\n",
    "import os \n",
    "import PyPDF2\n",
    "from PyPDF2 import PdfReader , PdfWriter, PdfMerger"
   ]
  },
  {
   "cell_type": "markdown",
   "metadata": {},
   "source": [
    "# File Reading"
   ]
  },
  {
   "cell_type": "code",
   "execution_count": null,
   "metadata": {},
   "outputs": [],
   "source": [
    "pdfFiles = [] # variable \n",
    "\n",
    "for root, dirs, filenames in os.walk(os.getcwd()): # Root and directory pathway.\n",
    "    for filename in filenames: \n",
    "        if filename.lower().endswith('.pdf'):# for loop for all files with .pdf in the name.\n",
    "            # Added check for keywords \"resume\" and \"cover letter\"\n",
    "            #if \"resume\" in filename.lower() or \"cover letter\" in filename.lower() or \"transcript\" in filename.lower():\n",
    "            #    pdfFiles.append(os.path.join(root,filename)) \n",
    "            pdfFiles.append(os.path.join(root,filename))\n",
    "            # Appending files to root name from OS (operating system).\n",
    "            \n",
    "# Sorting the files by forcing everything to lower case.\n",
    "pdfFiles.sort(key=str.lower)\n",
    "\n",
    "# Assigning the pdfWriter() function to pdfWriter.\n",
    "pdfWriter = PyPDF2.PdfWriter()\n",
    "\n",
    "# Prints the files found\n",
    "pdfFiles"
   ]
  },
  {
   "cell_type": "markdown",
   "metadata": {},
   "source": [
    "# Merging"
   ]
  },
  {
   "cell_type": "code",
   "execution_count": 3,
   "metadata": {},
   "outputs": [],
   "source": [
    "for filename in pdfFiles: # Starting a for loop.\n",
    "    pdfFileObj = open(filename, 'rb') # Opens each of the file paths in filename variable.\n",
    "    pdfReader = PyPDF2.PdfReader(pdfFileObj) # Reads each of the files in the new varaible you've created above and stores into memory.\n",
    "    for pageObj in pdfReader.pages:\n",
    "        pdfWriter.add_page(pageObj)\n",
    "    #for pageObj in pdfReader.pages[0]:\n",
    "    #    pdfWriter.add_page(pageObj)"
   ]
  },
  {
   "cell_type": "markdown",
   "metadata": {},
   "source": [
    "# Exporting\n",
    "\n",
    "NOTE: change the file name!"
   ]
  },
  {
   "cell_type": "code",
   "execution_count": 4,
   "metadata": {},
   "outputs": [],
   "source": [
    "# Name of the PDF file can be written here.\n",
    "pdfOutput = open('Joaquin_Kataoka_ELE632_Lab5_Report.pdf', 'wb') \n",
    "\n",
    "# Writing the output file using the pdfWriter function.\n",
    "pdfWriter.write(pdfOutput)\n",
    "pdfOutput.close()"
   ]
  },
  {
   "cell_type": "markdown",
   "metadata": {},
   "source": [
    "Code retrieved from : https://dadataguy.medium.com/merging-multiple-pdfs-with-python-7970a720ff0f "
   ]
  }
 ],
 "metadata": {
  "kernelspec": {
   "display_name": "Python 3",
   "language": "python",
   "name": "python3"
  },
  "language_info": {
   "codemirror_mode": {
    "name": "ipython",
    "version": 3
   },
   "file_extension": ".py",
   "mimetype": "text/x-python",
   "name": "python",
   "nbconvert_exporter": "python",
   "pygments_lexer": "ipython3",
   "version": "undefined.undefined.undefined"
  }
 },
 "nbformat": 4,
 "nbformat_minor": 2
}
